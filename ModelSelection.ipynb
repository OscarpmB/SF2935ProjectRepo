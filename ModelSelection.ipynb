{
 "cells": [
  {
   "cell_type": "markdown",
   "metadata": {},
   "source": [
    "# Data processing\n",
    "This notebook contain python code to train ML-models and make predictions based on the project data."
   ]
  },
  {
   "cell_type": "code",
   "execution_count": 1,
   "metadata": {},
   "outputs": [],
   "source": [
    "from sklearn.model_selection import train_test_split\n",
    "from sklearn.linear_model import LogisticRegression\n",
    "from sklearn.preprocessing import StandardScaler\n",
    "from sklearn.model_selection import GridSearchCV\n",
    "from sklearn.metrics import accuracy_score\n",
    "from sklearn.decomposition import PCA\n",
    "from sklearn.model_selection import cross_val_score\n",
    "from sklearn.pipeline import Pipeline\n",
    "import pandas as pd\n",
    "\n",
    "all_data = pd.read_csv(\"data/project_train.csv\")\n",
    "y = all_data[[\"Label\"]].to_numpy().ravel()\n",
    "X = all_data.drop(columns=[\"Label\"]).to_numpy()\n",
    "\n",
    "# Scale data to make model fitting work in the SKlearn framework\n",
    "scaler = StandardScaler()\n",
    "# X = scaler.transform(X)\n",
    "# X_train, X_test, y_train, y_test = train_test_split(X, y, train_size=0.8)\n",
    "\n"
   ]
  },
  {
   "cell_type": "markdown",
   "metadata": {},
   "source": [
    "# Logistic regression\n",
    "The basis of logistic regression in a binary classification problem such as ours is to use the logistic function $\\sigma(\\bold{x}) = \\frac{1}{1 - e^{-\\bold{\\beta}\\bold{x}}}$. Then the goal is to determine $\\bold{\\beta}\\in \\mathbb{R}^{d+1}$ such that\n",
    "\n",
    "$$\n",
    "    P(y | \\bold{x}) = \\frac{1}{1 - e^{-\\bold{\\beta}  \\bold{x}}}\n",
    "$$\n",
    "\n",
    "To evaluate the prediction $y_{\\text{pred}}$ against the true labels $y_{\\text{test}}$.\n",
    "\n",
    "$$\n",
    "    \\text{accuracy\\_test}(y_{\\text{test}}, y_{\\text{pred}}) = \\frac{1}{n_{\\text{samples}}} \\sum_{i=1}^n 1_{y_i = \\hat{y}}\n",
    "$$"
   ]
  },
  {
   "cell_type": "code",
   "execution_count": 2,
   "metadata": {},
   "outputs": [
    {
     "name": "stdout",
     "output_type": "stream",
     "text": [
      "Logistic regression mean accuracy 71.3% over 5 fold cross-validation\n"
     ]
    }
   ],
   "source": [
    "logReg = LogisticRegression()\n",
    "pl = Pipeline(steps=[\n",
    "    ('scaler', scaler),\n",
    "    # ('pca', PCA(n_components=X.shape[1]-3)),\n",
    "    ('classifier', logReg)\n",
    "])\n",
    "\n",
    "logReg_scores = cross_val_score(pl, X, y, cv=5)\n",
    "print(f\"Logistic regression mean accuracy {logReg_scores.mean() * 100:.3}% over 5 fold cross-validation\")"
   ]
  },
  {
   "cell_type": "markdown",
   "metadata": {},
   "source": [
    "# Discriminant analysis\n",
    "In this section we use linear and quadratic dicriminant analysis to classify the data"
   ]
  },
  {
   "cell_type": "code",
   "execution_count": 3,
   "metadata": {},
   "outputs": [
    {
     "name": "stdout",
     "output_type": "stream",
     "text": [
      "LDA mean accuracy 71.7% over 5 fold cross-validation\n",
      "QDA mean accuracy 67.9% over 5 fold cross-validation\n"
     ]
    }
   ],
   "source": [
    "from sklearn.discriminant_analysis import LinearDiscriminantAnalysis\n",
    "from sklearn.discriminant_analysis import QuadraticDiscriminantAnalysis\n",
    "\n",
    "lda = LinearDiscriminantAnalysis()\n",
    "qda = QuadraticDiscriminantAnalysis()\n",
    "\n",
    "lda_pl = Pipeline([\n",
    "    ('scaler', scaler),\n",
    "    # ('pca', PCA(n_components=X.shape[1]-3)),\n",
    "    ('classifier', lda)\n",
    "])\n",
    "\n",
    "qda_pl = Pipeline([\n",
    "    ('scaler', scaler),\n",
    "    # ('pca', PCA(n_components=X.shape[1]-3)),\n",
    "    ('classifier', qda)\n",
    "])\n",
    "\n",
    "lda_scores = cross_val_score(lda_pl, X, y, cv=5)\n",
    "qda_scores = cross_val_score(qda_pl, X, y, cv=5)\n",
    "\n",
    "print(f\"LDA mean accuracy {lda_scores.mean() * 100:.3}% over 5 fold cross-validation\")\n",
    "print(f\"QDA mean accuracy {qda_scores.mean() * 100:.3}% over 5 fold cross-validation\")"
   ]
  },
  {
   "cell_type": "markdown",
   "metadata": {},
   "source": [
    "# Support vector Classifier\n",
    "\n"
   ]
  },
  {
   "cell_type": "code",
   "execution_count": 4,
   "metadata": {},
   "outputs": [
    {
     "name": "stdout",
     "output_type": "stream",
     "text": [
      "Best gamma: 0.03\n",
      "Best cross-validated accuracy: 73.663%\n"
     ]
    }
   ],
   "source": [
    "from sklearn.svm import SVC\n",
    "from sklearn.pipeline import Pipeline\n",
    "from sklearn.model_selection import GridSearchCV\n",
    "\n",
    "# Define the SVC with the RBF kernel.\n",
    "clf = SVC(kernel=\"rbf\")\n",
    "\n",
    "svm_pl = Pipeline([\n",
    "    ('scaler', scaler),\n",
    "    ('classifier', clf)\n",
    "])\n",
    "\n",
    "param_grid = {\n",
    "    'classifier__gamma': ['scale', 'auto', 0.001, 0.005, 0.01, 0.02, 0.03, 0.05, 0.1, 0.2, 0.5, 1, 2, 5, 10]\n",
    "}\n",
    "\n",
    "grid_search = GridSearchCV(svm_pl, param_grid, cv=5, scoring='accuracy')\n",
    "grid_search.fit(X, y)\n",
    "\n",
    "print(f\"Best gamma: {grid_search.best_params_['classifier__gamma']}\")\n",
    "print(f\"Best cross-validated accuracy: {grid_search.best_score_ * 100:.3f}%\")"
   ]
  },
  {
   "cell_type": "markdown",
   "metadata": {},
   "source": [
    "# Neural network\n"
   ]
  },
  {
   "cell_type": "code",
   "execution_count": 6,
   "metadata": {},
   "outputs": [],
   "source": [
    "from itertools import product\n",
    "import sys\n",
    "import numpy as np\n",
    "from sklearn.model_selection import train_test_split\n",
    "from sklearn.model_selection import KFold\n",
    "from sklearn.preprocessing import StandardScaler\n",
    "from sklearn.metrics import accuracy_score\n",
    "from tensorflow.keras.models import Sequential\n",
    "from tensorflow.keras.models import Sequential\n",
    "from tensorflow.keras.callbacks import EarlyStopping\n",
    "from tensorflow.keras.optimizers import SGD\n",
    "from tensorflow.keras import layers\n",
    "\n",
    "def evaluate(epochs, batch_sizes, learning_rates):\n",
    "\n",
    "    file = open(\"output.txt\", \"w\")\n",
    "    sys.stdout = file\n",
    "    for e, b, l in product(epochs, batch_sizes, learning_rates):\n",
    "        print(\"\\n--------------------------\")\n",
    "        print(f\"epochs: {e}, batch_size: {b}, learning_rate: {l}\")\n",
    "\n",
    "        kf = KFold(n_splits=5, shuffle=True)\n",
    "\n",
    "        fold = 1\n",
    "        accuracies = []\n",
    "        for train_index, test_index in kf.split(X, y):\n",
    "            print(f\"Fold {fold}\")\n",
    "            # Rescale the data\n",
    "            scaler = StandardScaler()\n",
    "            x_train = scaler.fit_transform(X[train_index])\n",
    "            y_train = y[train_index]\n",
    "            x_test = scaler.fit_transform(X[test_index])\n",
    "            y_test = y[test_index]\n",
    "\n",
    "            # build model\n",
    "            model = Sequential(\n",
    "                [\n",
    "                    layers.Dense(16, activation='relu'),\n",
    "                    layers.Dense(8, activation='relu'),\n",
    "                    layers.Dense(8, activation='relu'),\n",
    "                    layers.Dense(8, activation='relu'),\n",
    "                    layers.Dense(1, activation='sigmoid')\n",
    "                ]\n",
    "            )\n",
    "            early_stopping = EarlyStopping(monitor='loss', patience=5, restore_best_weights=True)\n",
    "            sgd = SGD(learning_rate = 0.005)\n",
    "            model.compile(optimizer=sgd, loss='binary_crossentropy', metrics=['accuracy'])\n",
    "            model.fit(\n",
    "                x_train,\n",
    "                y_train,\n",
    "                epochs = 200,\n",
    "                batch_size = 64,\n",
    "                callbacks=[early_stopping],\n",
    "                verbose = 0,\n",
    "            )\n",
    "\n",
    "            y_pred = (model.predict(x_test, verbose=0) > 0.5).astype(int)\n",
    "            accuracies.append(accuracy_score(y_test, y_pred))\n",
    "\n",
    "            print(f\"Accuracy: {accuracy_score(y_test, y_pred)*100:.3} %\")\n",
    "            fold += 1\n",
    "\n",
    "        print(f\"mean accuracy over kfold: {np.mean(accuracies) * 100:.3f} %\")\n",
    "        print(f\"Variance  over kfold: {np.var(accuracies)} \")\n",
    "\n",
    "    sys.stdout = sys.__stdout__\n",
    "    file.close()\n",
    "\n",
    "\n",
    "evaluate(epochs=[300,200,100], batch_sizes=[16,32,64], learning_rates=[0.005, 0.01,0.05])"
   ]
  }
 ],
 "metadata": {
  "kernelspec": {
   "display_name": "base",
   "language": "python",
   "name": "python3"
  },
  "language_info": {
   "codemirror_mode": {
    "name": "ipython",
    "version": 3
   },
   "file_extension": ".py",
   "mimetype": "text/x-python",
   "name": "python",
   "nbconvert_exporter": "python",
   "pygments_lexer": "ipython3",
   "version": "3.9.18"
  }
 },
 "nbformat": 4,
 "nbformat_minor": 2
}
